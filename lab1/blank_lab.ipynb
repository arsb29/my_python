{
 "cells": [
  {
   "cell_type": "markdown",
   "metadata": {},
   "source": [
    "**Задание 1**\n",
    "\n",
    "1) Используя средства модуля [pandas](https://github.com/dm-fedorov/python3_intro/blob/master/lesson_13/pandas.ipynb), определите среднюю, максималную, минимальную зарплату и среднюю, максималную, минимальную пенсию в Санкт-Петербурге в 2018 году.\n",
    "\n",
    "2) Продемонстрируйте умение построения графиков (для произвольных значений) с помощью plot.\n",
    "\n",
    "\n",
    "**Задание 2**\n",
    "\n",
    "Для [файла](http://dfedorov.spb.ru/python3/forecast.html), расположенного в сети Интернет, напишите сценарий с использованием [модуля bs4](https://github.com/dm-fedorov/python3_intro/blob/master/lesson_13/bs4.ipynb), который извлекает данные и сохраняет их в файле формата CSV, где первый столбец - день недели, второй столбец - погода. \n",
    "\n",
    "**Переходим к решению первой задачи:**"
   ]
  },
  {
   "cell_type": "markdown",
   "metadata": {},
   "source": [
    "Импортируем модуль pandas:"
   ]
  },
  {
   "cell_type": "code",
   "execution_count": 154,
   "metadata": {},
   "outputs": [],
   "source": [
    "import pandas as pd\n",
    "import matplotlib.pyplot as plt\n",
    "%matplotlib inline"
   ]
  },
  {
   "cell_type": "markdown",
   "metadata": {},
   "source": [
    "Читаем содержимое csv файла:"
   ]
  },
  {
   "cell_type": "code",
   "execution_count": 155,
   "metadata": {},
   "outputs": [
    {
     "data": {
      "text/html": [
       "<div>\n",
       "<style scoped>\n",
       "    .dataframe tbody tr th:only-of-type {\n",
       "        vertical-align: middle;\n",
       "    }\n",
       "\n",
       "    .dataframe tbody tr th {\n",
       "        vertical-align: top;\n",
       "    }\n",
       "\n",
       "    .dataframe thead th {\n",
       "        text-align: right;\n",
       "    }\n",
       "</style>\n",
       "<table border=\"1\" class=\"dataframe\">\n",
       "  <thead>\n",
       "    <tr style=\"text-align: right;\">\n",
       "      <th></th>\n",
       "      <th>name</th>\n",
       "      <th>region</th>\n",
       "      <th>date</th>\n",
       "      <th>value</th>\n",
       "    </tr>\n",
       "  </thead>\n",
       "  <tbody>\n",
       "    <tr>\n",
       "      <th>0</th>\n",
       "      <td>Количество заявок на потребительские кредиты</td>\n",
       "      <td>Россия</td>\n",
       "      <td>2013-01-15</td>\n",
       "      <td>571147</td>\n",
       "    </tr>\n",
       "    <tr>\n",
       "      <th>1</th>\n",
       "      <td>Количество заявок на потребительские кредиты</td>\n",
       "      <td>Россия</td>\n",
       "      <td>2013-02-15</td>\n",
       "      <td>504508</td>\n",
       "    </tr>\n",
       "    <tr>\n",
       "      <th>2</th>\n",
       "      <td>Количество заявок на потребительские кредиты</td>\n",
       "      <td>Россия</td>\n",
       "      <td>2013-03-15</td>\n",
       "      <td>628803</td>\n",
       "    </tr>\n",
       "    <tr>\n",
       "      <th>3</th>\n",
       "      <td>Количество заявок на потребительские кредиты</td>\n",
       "      <td>Россия</td>\n",
       "      <td>2013-04-15</td>\n",
       "      <td>836054</td>\n",
       "    </tr>\n",
       "    <tr>\n",
       "      <th>4</th>\n",
       "      <td>Количество заявок на потребительские кредиты</td>\n",
       "      <td>Россия</td>\n",
       "      <td>2013-05-15</td>\n",
       "      <td>867235</td>\n",
       "    </tr>\n",
       "  </tbody>\n",
       "</table>\n",
       "</div>"
      ],
      "text/plain": [
       "                                           name  region        date   value\n",
       "0  Количество заявок на потребительские кредиты  Россия  2013-01-15  571147\n",
       "1  Количество заявок на потребительские кредиты  Россия  2013-02-15  504508\n",
       "2  Количество заявок на потребительские кредиты  Россия  2013-03-15  628803\n",
       "3  Количество заявок на потребительские кредиты  Россия  2013-04-15  836054\n",
       "4  Количество заявок на потребительские кредиты  Россия  2013-05-15  867235"
      ]
     },
     "execution_count": 155,
     "metadata": {},
     "output_type": "execute_result"
    }
   ],
   "source": [
    "data = pd.read_csv('opendata.csv', encoding='cp1251')\n",
    "data.head()"
   ]
  },
  {
   "cell_type": "code",
   "execution_count": 156,
   "metadata": {},
   "outputs": [
    {
     "name": "stderr",
     "output_type": "stream",
     "text": [
      "C:\\Program Files (x86)\\Microsoft Visual Studio\\Shared\\Anaconda3_64\\lib\\site-packages\\ipykernel_launcher.py:1: UserWarning: Boolean Series key will be reindexed to match DataFrame index.\n",
      "  \"\"\"Entry point for launching an IPython kernel.\n"
     ]
    }
   ],
   "source": [
    "a = data[data['name'] == 'Средняя зарплата'][data['region'] == 'Санкт-Петербург'][data['date'] >'2017-12-31']"
   ]
  },
  {
   "cell_type": "code",
   "execution_count": 157,
   "metadata": {},
   "outputs": [
    {
     "name": "stdout",
     "output_type": "stream",
     "text": [
      "Средняя зарплата:  43176.454545454544\n",
      "Максимальная зарплата:  49700\n",
      "Минимальная зарплата:  31599\n"
     ]
    }
   ],
   "source": [
    "print('Средняя зарплата: ',a.value.mean())\n",
    "print('Максимальная зарплата: ',max(a.value))\n",
    "print('Минимальная зарплата: ',min(a.value))"
   ]
  },
  {
   "cell_type": "code",
   "execution_count": 158,
   "metadata": {},
   "outputs": [
    {
     "name": "stderr",
     "output_type": "stream",
     "text": [
      "C:\\Program Files (x86)\\Microsoft Visual Studio\\Shared\\Anaconda3_64\\lib\\site-packages\\ipykernel_launcher.py:1: UserWarning: Boolean Series key will be reindexed to match DataFrame index.\n",
      "  \"\"\"Entry point for launching an IPython kernel.\n"
     ]
    }
   ],
   "source": [
    "b = data[data['name'] == 'Средняя пенсия'][data['region'] == 'Санкт-Петербург'][data['date'] >'2017-12-31']"
   ]
  },
  {
   "cell_type": "code",
   "execution_count": 159,
   "metadata": {},
   "outputs": [
    {
     "name": "stdout",
     "output_type": "stream",
     "text": [
      "Средняя пенсия:  17023.454545454544\n",
      "Максимальная пенсия:  19922\n",
      "Минимальная пенсия:  14694\n"
     ]
    }
   ],
   "source": [
    "print('Средняя пенсия: ',b.value.mean())\n",
    "print('Максимальная пенсия: ',max(b.value))\n",
    "print('Минимальная пенсия: ',min(b.value))"
   ]
  },
  {
   "cell_type": "code",
   "execution_count": 160,
   "metadata": {},
   "outputs": [
    {
     "data": {
      "text/plain": [
       "<matplotlib.axes._subplots.AxesSubplot at 0x1f78f3e3ac8>"
      ]
     },
     "execution_count": 160,
     "metadata": {},
     "output_type": "execute_result"
    },
    {
     "data": {
      "image/png": "[encoded data removed]",
      "text/plain": [
       "<Figure size 432x288 with 1 Axes>"
      ]
     },
     "metadata": {},
     "output_type": "display_data"
    }
   ],
   "source": [
    "a.plot(color='red')"
   ]
  },
  {
   "cell_type": "code",
   "execution_count": 161,
   "metadata": {},
   "outputs": [
    {
     "data": {
      "text/plain": [
       "<matplotlib.axes._subplots.AxesSubplot at 0x1f78ce628d0>"
      ]
     },
     "execution_count": 161,
     "metadata": {},
     "output_type": "execute_result"
    },
    {
     "data": {
      "image/png": "[encoded data removed]",
      "text/plain": [
       "<Figure size 432x288 with 1 Axes>"
      ]
     },
     "metadata": {},
     "output_type": "display_data"
    }
   ],
   "source": [
    "data[15:65].plot()"
   ]
  },
  {
   "cell_type": "code",
   "execution_count": 162,
   "metadata": {},
   "outputs": [],
   "source": [
    "h = [i for i in a[\"value\"]]\n",
    "k = [i for i in b[\"value\"]]"
   ]
  },
  {
   "cell_type": "code",
   "execution_count": 163,
   "metadata": {},
   "outputs": [
    {
     "data": {
      "image/png": "[encoded data removed]",
      "text/plain": [
       "<Figure size 432x288 with 1 Axes>"
      ]
     },
     "metadata": {},
     "output_type": "display_data"
    }
   ],
   "source": [
    "import matplotlib.pyplot as plt\n",
    "import numpy as np\n",
    "\n",
    "# Способ 1 с помощью label\n",
    "plt.plot(h, label = u'Зарплата')\n",
    "plt.plot(k, label = u'Пенсия')\n",
    "\n",
    "plt.grid(True)\n",
    "plt.xlabel(u'Месяцы')\n",
    "plt.ylabel(u'Значение в рублях')\n",
    "plt.title(u'Анализ данных')\n",
    "\n",
    "plt.legend()\n",
    "\n",
    "plt.show()"
   ]
  },
  {
   "cell_type": "markdown",
   "metadata": {},
   "source": [
    "**Переходим к решению второй задачи:**"
   ]
  },
  {
   "cell_type": "code",
   "execution_count": 164,
   "metadata": {},
   "outputs": [],
   "source": [
    "import bs4"
   ]
  },
  {
   "cell_type": "code",
   "execution_count": 165,
   "metadata": {},
   "outputs": [],
   "source": [
    "def read_url(url):\n",
    "    import urllib.request    \n",
    "    with urllib.request.urlopen(url) as webpage:\n",
    "        text = webpage.read().decode('utf-8')\n",
    "    return text"
   ]
  },
  {
   "cell_type": "code",
   "execution_count": 166,
   "metadata": {},
   "outputs": [
    {
     "data": {
      "text/plain": [
       "'<html>\\n  <body>\\n    <div class=\"row row-forecast\">\\n        <div class=\"forecast-label\"><b>Сегодня ночью</b></div>\\n        <div class=\"forecast-text\">Небольшая вероятность ливней и гроз до 22:00. Облачно с прояснениями около 66. Ветер юго-западный около 9 миль в час. Вероятность осадков 20%. Возможны новые осадки от десятой до четверти дюйма.</div>\\n    </div>\\n    <div class=\"row row-forecast\">\\n        <div class=\"forecast-label\"><b>Пятница</b></div>\\n        <div class=\"forecast-text\">Местами солнечно. Высоко около 77, с температурами, падающими приблизительно к 75 днем. Северо-западный ветер от 7 до 12 миль в час, с порывами до 18 миль в час.</div>\\n    </div>\\n    <div class=\"row row-forecast\">\\n        <div class=\"forecast-label\"><b>Ночь пятницы</b></div>\\n        <div class=\"forecast-text\">Облачно с прояснениями около 63. Северный ветер от 7 до 10 миль в час.</div>\\n    </div>\\n    <div class=\"row row-forecast\">\\n        <div class=\"forecast-label\"><b>Суббота</b></div>\\n        <div class=\"forecast-text\">В основном солнечно, с высокой температурой около 73. Северный ветер около 10 миль в час.</div>\\n    </div>\\n    <div class=\"row row-forecast\">\\n        <div class=\"forecast-label\"><b>Субботняя ночь</b></div>\\n        <div class=\"forecast-text\">Облачно с прояснениями, около 63. Ветер северный, 5-10 миль в час.</div>\\n    </div>\\n    <div class=\"row row-forecast\">\\n        <div class=\"forecast-label\"><b>Воскресенье</b></div>\\n        <div class=\"forecast-text\">В основном солнечно, с высотой около 73.</div>\\n    </div>\\n    <div class=\"row row-forecast\">\\n        <div class=\"forecast-label\"><b>Воскресный вечер</b></div>\\n        <div class=\"forecast-text\">Облачно с прояснениями около 64.</div>\\n    </div>\\n    <div class=\"row row-forecast\">\\n        <div class=\"forecast-label\"><b>Понедельник</b></div>\\n        <div class=\"forecast-text\">Преимущественно солнечно, с высоким около 74.</div>\\n    </div>\\n    <div class=\"row row-forecast\">\\n        <div class=\"forecast-label\"><b>Ночь понедельника</b></div>\\n        <div class=\"forecast-text\">В основном ясно, с низким около 65.</div>\\n    </div>\\n    <div class=\"row row-forecast\">\\n        <div class=\"forecast-label\"><b>Вторник</b></div>\\n        <div class=\"forecast-text\">Солнечный, с высоким около 75.</div>\\n    </div>\\n    <div class=\"row row-forecast\">\\n        <div class=\"forecast-label\"><b>Вечер вторника</b></div>\\n        <div class=\"forecast-text\">В основном ясно, с низким около 65.</div>\\n    </div>\\n    <div class=\"row row-forecast\">\\n        <div class=\"forecast-label\"><b>Среда</b></div>\\n        <div class=\"forecast-text\">Солнечный, с высоким около 77.</div>\\n    </div>\\n    <div class=\"row row-forecast\">\\n        <div class=\"forecast-label\"><b>Ночь среды</b></div>\\n        <div class=\"forecast-text\">В основном ясно, с низким около 67.</div>\\n    </div>\\n    <div class=\"row row-forecast\">\\n        <div class=\"forecast-label\"><b>Четверг</b></div>\\n        <div class=\"forecast-text\">Вероятность дождя после 1 вечера. Преимущественно солнечно, с максимумом около 81. Вероятность осадков составляет 30%.</div>\\n    </div>\\n  </body>\\n</html>\\n'"
      ]
     },
     "execution_count": 166,
     "metadata": {},
     "output_type": "execute_result"
    }
   ],
   "source": [
    "text = read_url(\"http://dfedorov.spb.ru/python3/forecast.html\")\n",
    "text"
   ]
  },
  {
   "cell_type": "code",
   "execution_count": 167,
   "metadata": {},
   "outputs": [],
   "source": [
    "bs = bs4.BeautifulSoup(text, 'html.parser')"
   ]
  },
  {
   "cell_type": "code",
   "execution_count": 168,
   "metadata": {},
   "outputs": [],
   "source": [
    "c=bs.get_text()"
   ]
  },
  {
   "cell_type": "code",
   "execution_count": 169,
   "metadata": {},
   "outputs": [],
   "source": [
    "d=c.split('\\n')"
   ]
  },
  {
   "cell_type": "code",
   "execution_count": 170,
   "metadata": {},
   "outputs": [],
   "source": [
    "e=list(filter(None, d))"
   ]
  },
  {
   "cell_type": "code",
   "execution_count": 171,
   "metadata": {},
   "outputs": [],
   "source": [
    "t=[]\n",
    "for i in range(0,len(e),2):\n",
    "    t.append([e[i],e[i+1]])"
   ]
  },
  {
   "cell_type": "code",
   "execution_count": 173,
   "metadata": {},
   "outputs": [],
   "source": [
    "import csv\n",
    "with open('weatherlab.csv', \"w\", newline=\"\") as file:\n",
    "    writer = csv.writer(file)\n",
    "    writer.writerows(t)"
   ]
  },
  {
   "cell_type": "code",
   "execution_count": null,
   "metadata": {},
   "outputs": [],
   "source": []
  },
  {
   "cell_type": "code",
   "execution_count": null,
   "metadata": {},
   "outputs": [],
   "source": []
  }
 ],
 "metadata": {
  "kernelspec": {
   "display_name": "Python 3",
   "language": "python",
   "name": "python3"
  },
  "language_info": {
   "codemirror_mode": {
    "name": "ipython",
    "version": 3
   },
   "file_extension": ".py",
   "mimetype": "text/x-python",
   "name": "python",
   "nbconvert_exporter": "python",
   "pygments_lexer": "ipython3",
   "version": "3.6.5"
  }
 },
 "nbformat": 4,
 "nbformat_minor": 2
}
